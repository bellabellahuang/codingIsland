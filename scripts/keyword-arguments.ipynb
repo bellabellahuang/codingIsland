{
 "cells": [
  {
   "cell_type": "code",
   "execution_count": 1,
   "metadata": {},
   "outputs": [],
   "source": [
    "def myFun(**kwargs):\n",
    "    for key, value in kwargs.items():\n",
    "        print(key + \"=\" + value)"
   ]
  },
  {
   "cell_type": "code",
   "execution_count": 3,
   "metadata": {},
   "outputs": [
    {
     "name": "stdout",
     "output_type": "stream",
     "text": [
      "customer=Jeff\n",
      "id=abc123\n",
      "age=23\n"
     ]
    }
   ],
   "source": [
    "#calling function using named arguments\n",
    "myFun(customer=\"Jeff\", id=\"abc123\", age=\"23\")"
   ]
  },
  {
   "cell_type": "code",
   "execution_count": 4,
   "metadata": {},
   "outputs": [
    {
     "name": "stdout",
     "output_type": "stream",
     "text": [
      "customer=Mary\n",
      "id=efg456\n",
      "age=26\n"
     ]
    }
   ],
   "source": [
    "#calling function by passing a dictionary object\n",
    "#** is required to unpack the dictionay\n",
    "myFun(**{\"customer\": \"Mary\", \"id\": \"efg456\", \"age\": \"26\"})"
   ]
  },
  {
   "cell_type": "code",
   "execution_count": 5,
   "metadata": {},
   "outputs": [],
   "source": [
    "def sum(*argv):\n",
    "    sum = 0\n",
    "    for num in argv:\n",
    "        sum += num\n",
    "    print(\"sum: \" + str(sum))"
   ]
  },
  {
   "cell_type": "code",
   "execution_count": 6,
   "metadata": {},
   "outputs": [
    {
     "name": "stdout",
     "output_type": "stream",
     "text": [
      "sum: 6\n"
     ]
    }
   ],
   "source": [
    "# calling the function with variable number of arguments\n",
    "sum(1, 2, 3)"
   ]
  },
  {
   "cell_type": "code",
   "execution_count": 8,
   "metadata": {},
   "outputs": [
    {
     "name": "stdout",
     "output_type": "stream",
     "text": [
      "sum: 1132\n"
     ]
    }
   ],
   "source": [
    "sum(34, 87, 999, 12)"
   ]
  }
 ],
 "metadata": {
  "kernelspec": {
   "display_name": "Python 3",
   "language": "python",
   "name": "python3"
  },
  "language_info": {
   "codemirror_mode": {
    "name": "ipython",
    "version": 3
   },
   "file_extension": ".py",
   "mimetype": "text/x-python",
   "name": "python",
   "nbconvert_exporter": "python",
   "pygments_lexer": "ipython3",
   "version": "3.7.0"
  }
 },
 "nbformat": 4,
 "nbformat_minor": 2
}
