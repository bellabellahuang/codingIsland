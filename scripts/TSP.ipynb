{
 "cells": [
  {
   "cell_type": "code",
   "execution_count": 29,
   "id": "af7a3d30",
   "metadata": {},
   "outputs": [],
   "source": [
    "import random\n",
    "from itertools import permutations\n",
    "\n",
    "alltours = permutations\n",
    "aCity = complex\n",
    "\n",
    "# calculate the total distance of a tour\n",
    "def distance_tour(aTour:list) -> float:\n",
    "    return sum(distance_points(aTour[i-1], aTour[i]) for i in range(len(aTour)))\n",
    "\n",
    "# calculate the distance between two points\n",
    "def distance_points(start, end) -> float:\n",
    "    return abs(start - end)\n",
    "\n",
    "# randomly generate a specific number of cites\n",
    "def generate_cities(number_of_cities: int) -> frozenset:\n",
    "    seed=100;width=500;height=300\n",
    "    random.seed((number_of_cities, seed)) # a number to start with\n",
    "    return frozenset(aCity(random.randint(1, width), random.randint(1, height)) for c in range(number_of_cities))\n",
    "\n",
    "def brute_force(cities:frozenset) -> set:\n",
    "    return shortest_tour(alltours(cities))\n",
    "\n",
    "def shortest_tour(tours: permutations) -> set:\n",
    "    return min(tours, key=distance_tour)\n"
   ]
  },
  {
   "cell_type": "code",
   "execution_count": 25,
   "id": "5690347c",
   "metadata": {},
   "outputs": [],
   "source": [
    "%matplotlib inline\n",
    "import matplotlib.pyplot as plt\n",
    "\n",
    "def visualize_tour(tour, style='bo-'):\n",
    "    if len(tour) > 1000: plt.figure(figsize=(15, 10))\n",
    "    start = tour[0:1]\n",
    "    visualize_segment(tour + start, style)\n",
    "    visualize_segment(start, 'rD')\n",
    "    \n",
    "def visualize_segment (segment, style='bo-'):\n",
    "    plt.plot([X(c) for c in segment], [Y(c) for c in segment], style, clip_on=False)\n",
    "    plt.axis('scaled')\n",
    "    plt.axis('off')\n",
    "    \n",
    "def X(city): \"X axis\"; return city.real\n",
    "def Y(city): \"Y axis\"; return city.imag"
   ]
  },
  {
   "cell_type": "code",
   "execution_count": 39,
   "id": "aed07239",
   "metadata": {},
   "outputs": [],
   "source": [
    "import time\n",
    "from collections import Counter\n",
    "def tsp(algorithm: function, cities: frozenset):\n",
    "    t0 = time.perf_counter() # start time\n",
    "    tour = algorithm(cities) # a series of complex numbers\n",
    "    t1 = time.perf_counter() # end time\n",
    "    assert Counter(tour) == Counter(cities) # each city appear exactly once\n",
    "    visualize_tour(tour)\n",
    "    print(f\"{algorithm.__name__}: {len(tour)} cities -> tour length {distance_tour(tour)} (in {t1 - t0} sec)\")"
   ]
  },
  {
   "cell_type": "code",
   "execution_count": 31,
   "id": "374ea58b",
   "metadata": {},
   "outputs": [
    {
     "name": "stdout",
     "output_type": "stream",
     "text": [
      "cities: frozenset({(427+295j), (128+235j), (466+261j), (253+120j), (116+291j), (133+2j), (92+16j), (428+205j), (469+257j), (141+26j), (141+144j)})\n",
      "tours: <itertools.permutations object at 0x11477ab30>\n",
      "shortest tour: ((128+235j), (141+144j), (92+16j), (133+2j), (141+26j), (253+120j), (428+205j), (469+257j), (466+261j), (427+295j), (116+291j))\n",
      "brute_force: 11 -> tour length 1129.6306934641734 (in 66.31003262499962 sec)\n"
     ]
    },
    {
     "data": {
      "image/png": "[encoded data removed]",
      "text/plain": [
       "<Figure size 432x288 with 1 Axes>"
      ]
     },
     "metadata": {
      "needs_background": "light"
     },
     "output_type": "display_data"
    }
   ],
   "source": [
    "tsp(brute_force, generate_cities(11))"
   ]
  },
  {
   "cell_type": "code",
   "execution_count": 45,
   "id": "71c87d6b",
   "metadata": {},
   "outputs": [],
   "source": [
    "def greedy_algorithm(cities, start=None):\n",
    "    C = start or first(cities)\n",
    "    tour = [C]\n",
    "    unvisited = set(cities - {C})\n",
    "    while unvisited:\n",
    "        C = nearest_neighbor(C, unvisited)\n",
    "        tour.append(C)\n",
    "        unvisited.remove(C)\n",
    "        print(tour)\n",
    "    return tour\n",
    "\n",
    "def first(collection: frozenset):\n",
    "    return next(iter(collection))\n",
    "\n",
    "def nearest_neighbor(A, cities):\n",
    "    return min(cities, key=lambda x: distance_points(x, A))"
   ]
  },
  {
   "cell_type": "code",
   "execution_count": 46,
   "id": "c5d1edfd",
   "metadata": {},
   "outputs": [
    {
     "name": "stdout",
     "output_type": "stream",
     "text": [
      "[(366+294j), (376+131j)]\n",
      "[(366+294j), (376+131j), (352+77j)]\n",
      "[(366+294j), (376+131j), (352+77j), (315+72j)]\n",
      "[(366+294j), (376+131j), (352+77j), (315+72j), (298+64j)]\n",
      "[(366+294j), (376+131j), (352+77j), (315+72j), (298+64j), (195+130j)]\n",
      "[(366+294j), (376+131j), (352+77j), (315+72j), (298+64j), (195+130j), (182+202j)]\n",
      "[(366+294j), (376+131j), (352+77j), (315+72j), (298+64j), (195+130j), (182+202j), (120+192j)]\n",
      "[(366+294j), (376+131j), (352+77j), (315+72j), (298+64j), (195+130j), (182+202j), (120+192j), (92+125j)]\n",
      "[(366+294j), (376+131j), (352+77j), (315+72j), (298+64j), (195+130j), (182+202j), (120+192j), (92+125j), (49+40j)]\n",
      "greedy_algorithm: 10 cities -> tour length 1110.9022461267145 (in 0.00018987499970535282 sec)\n"
     ]
    },
    {
     "data": {
      "image/png": "[encoded data removed]",
      "text/plain": [
       "<Figure size 432x288 with 1 Axes>"
      ]
     },
     "metadata": {
      "needs_background": "light"
     },
     "output_type": "display_data"
    }
   ],
   "source": [
    "tsp(greedy_algorithm, generate_cities(10))"
   ]
  }
 ],
 "metadata": {
  "kernelspec": {
   "display_name": "Python 3 (ipykernel)",
   "language": "python",
   "name": "python3"
  },
  "language_info": {
   "codemirror_mode": {
    "name": "ipython",
    "version": 3
   },
   "file_extension": ".py",
   "mimetype": "text/x-python",
   "name": "python",
   "nbconvert_exporter": "python",
   "pygments_lexer": "ipython3",
   "version": "3.8.2"
  }
 },
 "nbformat": 4,
 "nbformat_minor": 5
}
