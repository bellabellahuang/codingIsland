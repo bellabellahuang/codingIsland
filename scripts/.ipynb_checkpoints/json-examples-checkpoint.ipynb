{
 "cells": [
  {
   "cell_type": "code",
   "execution_count": 1,
   "metadata": {},
   "outputs": [],
   "source": [
    "import json\n",
    "from io import StringIO"
   ]
  },
  {
   "cell_type": "code",
   "execution_count": 8,
   "metadata": {},
   "outputs": [
    {
     "name": "stdout",
     "output_type": "stream",
     "text": [
      "{\"a\": 1, \"b\": 2, \"c\": 3}\n",
      "<class 'str'>\n",
      "{'a': 1, 'b': 2, 'c': 3}\n",
      "<class 'dict'>\n"
     ]
    }
   ],
   "source": [
    "# json.loads => converting a string to dictionary\n",
    "string_example = '{\"a\": 1, \"b\": 2, \"c\": 3}'\n",
    "print(string_example)\n",
    "print(type(string_example))\n",
    "dict_result = json.loads('{\"a\": 1, \"b\": 2, \"c\": 3}')\n",
    "print(dict_result)\n",
    "print(type(dict_result))"
   ]
  },
  {
   "cell_type": "code",
   "execution_count": 9,
   "metadata": {},
   "outputs": [
    {
     "name": "stdout",
     "output_type": "stream",
     "text": [
      "{'customer': 'Jeff', 'id': 'ABC123', 'age': 23}\n"
     ]
    }
   ],
   "source": [
    "with open(\"example.json\", \"r\") as cfgfile:\n",
    "    cfg = json.loads(cfgfile.read())\n",
    "    print(cfg)"
   ]
  },
  {
   "cell_type": "code",
   "execution_count": 10,
   "metadata": {},
   "outputs": [
    {
     "name": "stdout",
     "output_type": "stream",
     "text": [
      "{'customer': 'Jeff', 'id': 'ABC123', 'age': 23}\n"
     ]
    }
   ],
   "source": [
    "# json.load => converting a file-like object to dictionary\n",
    "with open(\"example.json\", \"r\") as cfgfile:\n",
    "    cfg = json.load(cfgfile)\n",
    "    print(cfg)"
   ]
  },
  {
   "cell_type": "code",
   "execution_count": 11,
   "metadata": {},
   "outputs": [
    {
     "name": "stdout",
     "output_type": "stream",
     "text": [
      "['streaming API']\n"
     ]
    }
   ],
   "source": [
    "io = StringIO('[\"streaming API\"]')\n",
    "print(json.load(io))"
   ]
  },
  {
   "cell_type": "code",
   "execution_count": 13,
   "metadata": {},
   "outputs": [
    {
     "name": "stdout",
     "output_type": "stream",
     "text": [
      "{\n",
      "  \"a\": 1,\n",
      "  \"b\": 2,\n",
      "  \"c\": 3\n",
      "}\n"
     ]
    }
   ],
   "source": [
    "# json.dumps => converting dictionary to string\n",
    "print(json.dumps({\"a\": 1, \"b\": 2, \"c\": 3}, indent=2))"
   ]
  },
  {
   "cell_type": "code",
   "execution_count": 15,
   "metadata": {},
   "outputs": [],
   "source": [
    "# json.dump => converting json objects into a file-like writable object\n",
    "example = {'customer': 'Mary', 'id': 'EFG456', 'age': 24}\n",
    "with open(\"example.json\", \"w\") as f:\n",
    "    json.dump(example, f)"
   ]
  },
  {
   "cell_type": "code",
   "execution_count": 16,
   "metadata": {},
   "outputs": [
    {
     "name": "stdout",
     "output_type": "stream",
     "text": [
      "{\"customer\": \"Mary\", \"id\": \"EFG456\", \"age\": 24}\n"
     ]
    }
   ],
   "source": [
    "with open(\"example.json\", \"r\") as f:\n",
    "    print(f.read())"
   ]
  },
  {
   "cell_type": "code",
   "execution_count": 17,
   "metadata": {},
   "outputs": [
    {
     "name": "stdout",
     "output_type": "stream",
     "text": [
      "Jason,3.1\n",
      "\n"
     ]
    }
   ],
   "source": [
    "# converting json to csv\n",
    "json_obj = {\n",
    "    \"student\": \"Jason\",\n",
    "    \"gpa\": \"3.1\"\n",
    "}\n",
    "\n",
    "csv_obj = ','.join([\n",
    "    json_obj['student'],\n",
    "    json_obj['gpa'] +\n",
    "    '\\n'\n",
    "])\n",
    "print(csv_obj)"
   ]
  }
 ],
 "metadata": {
  "kernelspec": {
   "display_name": "Python 3",
   "language": "python",
   "name": "python3"
  },
  "language_info": {
   "codemirror_mode": {
    "name": "ipython",
    "version": 3
   },
   "file_extension": ".py",
   "mimetype": "text/x-python",
   "name": "python",
   "nbconvert_exporter": "python",
   "pygments_lexer": "ipython3",
   "version": "3.7.0"
  }
 },
 "nbformat": 4,
 "nbformat_minor": 2
}
