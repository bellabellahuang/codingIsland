{
 "cells": [
  {
   "cell_type": "code",
   "execution_count": 2,
   "metadata": {},
   "outputs": [
    {
     "name": "stdout",
     "output_type": "stream",
     "text": [
      "{'name': 'Tom', 'age': 23}\n"
     ]
    }
   ],
   "source": [
    "example = {\"name\": \"Tom\", \"age\": 23}\n",
    "print(example)"
   ]
  },
  {
   "cell_type": "code",
   "execution_count": 5,
   "metadata": {},
   "outputs": [
    {
     "name": "stdout",
     "output_type": "stream",
     "text": [
      "test1 - {'name': 'Tom', 'age': 23, 'birthday': '1990-12-23'}\n",
      "example - {'name': 'Tom', 'age': 23, 'birthday': '1990-12-23'}\n"
     ]
    }
   ],
   "source": [
    "test1 = example\n",
    "test1['birthday'] = \"1990-12-23\"\n",
    "print(\"test1 - {}\".format(test1))\n",
    "print(\"example - {}\".format(example))"
   ]
  },
  {
   "cell_type": "code",
   "execution_count": 6,
   "metadata": {},
   "outputs": [
    {
     "name": "stdout",
     "output_type": "stream",
     "text": [
      "{'name': 'Tom', 'age': 23}\n"
     ]
    }
   ],
   "source": [
    "example = {\"name\": \"Tom\", \"age\": 23}\n",
    "print(example)"
   ]
  },
  {
   "cell_type": "code",
   "execution_count": 7,
   "metadata": {},
   "outputs": [
    {
     "name": "stdout",
     "output_type": "stream",
     "text": [
      "test2 - {'name': 'Tom', 'age': 23, 'birthday': '1990-12-23'}\n",
      "example - {'name': 'Tom', 'age': 23}\n"
     ]
    }
   ],
   "source": [
    "test2 = dict(example)\n",
    "test2['birthday'] = \"1990-12-23\"\n",
    "print(\"test2 - {}\".format(test2))\n",
    "print(\"example - {}\".format(example))"
   ]
  },
  {
   "cell_type": "code",
   "execution_count": 8,
   "metadata": {},
   "outputs": [
    {
     "name": "stdout",
     "output_type": "stream",
     "text": [
      "{'name': 'Tom', 'age': 23}\n"
     ]
    }
   ],
   "source": [
    "example = {\"name\": \"Tom\", \"age\": 23}\n",
    "print(example)"
   ]
  },
  {
   "cell_type": "code",
   "execution_count": 9,
   "metadata": {},
   "outputs": [
    {
     "name": "stdout",
     "output_type": "stream",
     "text": [
      "test3 - {'name': 'Tom', 'age': 23, 'birthday': '1990-12-23'}\n",
      "example - {'name': 'Tom', 'age': 23}\n"
     ]
    }
   ],
   "source": [
    "test3 = example.copy()\n",
    "test3['birthday'] = \"1990-12-23\"\n",
    "print(\"test3 - {}\".format(test3))\n",
    "print(\"example - {}\".format(example))"
   ]
  }
 ],
 "metadata": {
  "kernelspec": {
   "display_name": "Python 3",
   "language": "python",
   "name": "python3"
  },
  "language_info": {
   "codemirror_mode": {
    "name": "ipython",
    "version": 3
   },
   "file_extension": ".py",
   "mimetype": "text/x-python",
   "name": "python",
   "nbconvert_exporter": "python",
   "pygments_lexer": "ipython3",
   "version": "3.7.0"
  }
 },
 "nbformat": 4,
 "nbformat_minor": 2
}
