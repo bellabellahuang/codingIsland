{
 "cells": [
  {
   "cell_type": "code",
   "execution_count": 3,
   "metadata": {},
   "outputs": [
    {
     "data": {
      "text/plain": [
       "['a', 'b', 'c', 'd']"
      ]
     },
     "execution_count": 3,
     "metadata": {},
     "output_type": "execute_result"
    }
   ],
   "source": [
    "# separating a string with a delimeter\n",
    "'a/b/c/d'.split('/')"
   ]
  },
  {
   "cell_type": "code",
   "execution_count": 4,
   "metadata": {},
   "outputs": [
    {
     "data": {
      "text/plain": [
       "'c/d'"
      ]
     },
     "execution_count": 4,
     "metadata": {},
     "output_type": "execute_result"
    }
   ],
   "source": [
    "# joining particular parts after separting a string\n",
    "'/'.join('a/b/c/d'.split('/')[2:])"
   ]
  },
  {
   "cell_type": "code",
   "execution_count": 5,
   "metadata": {},
   "outputs": [
    {
     "data": {
      "text/plain": [
       "'hello, world'"
      ]
     },
     "execution_count": 5,
     "metadata": {},
     "output_type": "execute_result"
    }
   ],
   "source": [
    "# replacing the last character of a string\n",
    "'hello '[:-1] + ', world'"
   ]
  },
  {
   "cell_type": "code",
   "execution_count": 7,
   "metadata": {},
   "outputs": [
    {
     "data": {
      "text/plain": [
       "\"SELECT * FROM students WHERE id = '123';\""
      ]
     },
     "execution_count": 7,
     "metadata": {},
     "output_type": "execute_result"
    }
   ],
   "source": [
    "# formatting string with variable placer\n",
    "example = \"SELECT * FROM {table} WHERE id = '{id}';\"\n",
    "example.format(table=\"students\", id=\"123\")"
   ]
  },
  {
   "cell_type": "code",
   "execution_count": 8,
   "metadata": {},
   "outputs": [
    {
     "data": {
      "text/plain": [
       "\"SELECT * FROM teachers WHERE id = '000';\""
      ]
     },
     "execution_count": 8,
     "metadata": {},
     "output_type": "execute_result"
    }
   ],
   "source": [
    "# formatting the string with dictionary\n",
    "kwargs = {\n",
    "    \"table\": \"teachers\",\n",
    "    \"id\": \"000\"\n",
    "}\n",
    "example.format(**kwargs)"
   ]
  },
  {
   "cell_type": "code",
   "execution_count": 10,
   "metadata": {},
   "outputs": [
    {
     "data": {
      "text/plain": [
       "{'custom': 'Jeff', 'id': '123', 'age': '23'}"
      ]
     },
     "execution_count": 10,
     "metadata": {},
     "output_type": "execute_result"
    }
   ],
   "source": [
    "# converting http payload string to key-value dictionary\n",
    "def convertParamsToDict(req_string):\n",
    "    req_dict = {}\n",
    "    for val in req_string.split('&'):\n",
    "        k, v = val.split('=')\n",
    "        req_dict[k] = v\n",
    "    return req_dict\n",
    "req_string = \"custom=Jeff&id=123&age=23\"\n",
    "convertParamsToDict(req_string)"
   ]
  },
  {
   "cell_type": "code",
   "execution_count": 12,
   "metadata": {},
   "outputs": [
    {
     "name": "stdout",
     "output_type": "stream",
     "text": [
      "hello world\n",
      "b'hello world'\n",
      "hello world\n"
     ]
    }
   ],
   "source": [
    "# converting a string to or from binary\n",
    "print(\"hello world\")\n",
    "binary_result = \"hello world\".encode('utf-8')\n",
    "print(binary_result)\n",
    "string_result = binary_result.decode('utf-8')\n",
    "print(string_result)"
   ]
  },
  {
   "cell_type": "code",
   "execution_count": 13,
   "metadata": {},
   "outputs": [
    {
     "name": "stdout",
     "output_type": "stream",
     "text": [
      "b'aGVsbG8gd29ybGQ='\n",
      "hello world\n"
     ]
    }
   ],
   "source": [
    "# converting a string to or from base64 string\n",
    "import base64\n",
    "base64_result = base64.b64encode(\"hello world\".encode('utf-8'))\n",
    "print(base64_result)\n",
    "string_result = base64.b64decode(base64_result).decode('utf-8')\n",
    "print(string_result)"
   ]
  },
  {
   "cell_type": "code",
   "execution_count": 14,
   "metadata": {},
   "outputs": [
    {
     "name": "stdout",
     "output_type": "stream",
     "text": [
      "one=1&two=2\n"
     ]
    }
   ],
   "source": [
    "# converting a dictionary to string with '&' symbol which is commonly used in http urls\n",
    "import urllib.parse\n",
    "print(urllib.parse.urlencode({'one': 1, 'two': 2}))"
   ]
  },
  {
   "cell_type": "code",
   "execution_count": 15,
   "metadata": {},
   "outputs": [
    {
     "name": "stdout",
     "output_type": "stream",
     "text": [
      "one%3D1%26two%3D2\n"
     ]
    }
   ],
   "source": [
    "# formating the specific characters in urls\n",
    "print(urllib.parse.quote('one=1&two=2'))"
   ]
  }
 ],
 "metadata": {
  "kernelspec": {
   "display_name": "Python 3",
   "language": "python",
   "name": "python3"
  },
  "language_info": {
   "codemirror_mode": {
    "name": "ipython",
    "version": 3
   },
   "file_extension": ".py",
   "mimetype": "text/x-python",
   "name": "python",
   "nbconvert_exporter": "python",
   "pygments_lexer": "ipython3",
   "version": "3.7.0"
  }
 },
 "nbformat": 4,
 "nbformat_minor": 2
}
