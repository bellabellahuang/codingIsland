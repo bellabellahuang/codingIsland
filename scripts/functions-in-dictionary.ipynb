{
 "cells": [
  {
   "cell_type": "code",
   "execution_count": 7,
   "metadata": {},
   "outputs": [],
   "source": [
    "def function_a(payload):\n",
    "    print(\"This is function A.\")\n",
    "    print(\"Payload: \" + payload)"
   ]
  },
  {
   "cell_type": "code",
   "execution_count": 8,
   "metadata": {},
   "outputs": [],
   "source": [
    "def function_b(payload):\n",
    "    print(\"This is function B.\")\n",
    "    print(\"Payload: \" + payload)"
   ]
  },
  {
   "cell_type": "code",
   "execution_count": 9,
   "metadata": {},
   "outputs": [],
   "source": [
    "def function_c(payload):\n",
    "    print(\"This is function C.\")\n",
    "    print(\"Payload: \" + payload)"
   ]
  },
  {
   "cell_type": "code",
   "execution_count": 12,
   "metadata": {},
   "outputs": [],
   "source": [
    "def main(type, payload):\n",
    "    functions = {'A': function_a, 'B': function_b, 'C': function_c}\n",
    "    functions[type](payload)"
   ]
  },
  {
   "cell_type": "code",
   "execution_count": 13,
   "metadata": {},
   "outputs": [
    {
     "name": "stdout",
     "output_type": "stream",
     "text": [
      "This is function A.\n",
      "Payload: How are you?\n"
     ]
    }
   ],
   "source": [
    "main(\"A\", \"How are you?\")"
   ]
  },
  {
   "cell_type": "code",
   "execution_count": 14,
   "metadata": {},
   "outputs": [
    {
     "name": "stdout",
     "output_type": "stream",
     "text": [
      "This is function B.\n",
      "Payload: I am fine, thank you. And you?\n"
     ]
    }
   ],
   "source": [
    "main(\"B\", \"I am fine, thank you. And you?\")"
   ]
  },
  {
   "cell_type": "code",
   "execution_count": 15,
   "metadata": {},
   "outputs": [
    {
     "name": "stdout",
     "output_type": "stream",
     "text": [
      "This is function C.\n",
      "Payload: Good.\n"
     ]
    }
   ],
   "source": [
    "main(\"C\", \"Good.\")"
   ]
  }
 ],
 "metadata": {
  "kernelspec": {
   "display_name": "Python 3",
   "language": "python",
   "name": "python3"
  },
  "language_info": {
   "codemirror_mode": {
    "name": "ipython",
    "version": 3
   },
   "file_extension": ".py",
   "mimetype": "text/x-python",
   "name": "python",
   "nbconvert_exporter": "python",
   "pygments_lexer": "ipython3",
   "version": "3.7.0"
  }
 },
 "nbformat": 4,
 "nbformat_minor": 2
}
