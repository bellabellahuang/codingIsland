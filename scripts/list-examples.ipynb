{
 "cells": [
  {
   "cell_type": "code",
   "execution_count": 1,
   "metadata": {},
   "outputs": [
    {
     "data": {
      "text/plain": [
       "1"
      ]
     },
     "execution_count": 1,
     "metadata": {},
     "output_type": "execute_result"
    }
   ],
   "source": [
    "# get element index of a list\n",
    "example = [1, 2, 3]\n",
    "example.index(2)"
   ]
  },
  {
   "cell_type": "code",
   "execution_count": 2,
   "metadata": {},
   "outputs": [
    {
     "name": "stdout",
     "output_type": "stream",
     "text": [
      "0: 1\n",
      "1: 2\n",
      "2: 3\n"
     ]
    }
   ],
   "source": [
    "# loop through a list to get index and value\n",
    "example = [1, 2, 3]\n",
    "for index, value in enumerate(example):\n",
    "    print(f\"{index}: {value}\")"
   ]
  },
  {
   "cell_type": "code",
   "execution_count": 2,
   "metadata": {},
   "outputs": [
    {
     "name": "stdout",
     "output_type": "stream",
     "text": [
      "['0', '1', '2', '3', '4', '5', '6', '7', '8', '9', '10', '11', '12', '13', '14', '15', '16', '17', '18', '19', '20', '21', '22', '23', '24', '25', '26', '27', '28', '29', '30', '31', '32', '33', '34', '35', '36', '37', '38', '39', '40', '41', '42', '43', '44', '45', '46', '47', '48', '49', '50', '51', '52', '53', '54', '55', '56', '57', '58', '59', '60', '61', '62', '63', '64', '65', '66', '67', '68', '69', '70', '71', '72', '73', '74', '75', '76', '77', '78', '79', '80', '81', '82', '83', '84', '85', '86', '87', '88', '89', '90', '91', '92', '93', '94', '95', '96', '97', '98', '99']\n"
     ]
    }
   ],
   "source": [
    "# create a list from 0 to 99\n",
    "data = [str(n) for n in range(100)]\n",
    "print(data)"
   ]
  },
  {
   "cell_type": "code",
   "execution_count": 4,
   "metadata": {},
   "outputs": [
    {
     "name": "stdout",
     "output_type": "stream",
     "text": [
      "['0', '1', '2', '3', '4', '5', '6', '7', '8', '9']\n",
      "['10', '11', '12', '13', '14', '15', '16', '17', '18', '19']\n",
      "['20', '21', '22', '23', '24', '25', '26', '27', '28', '29']\n",
      "['30', '31', '32', '33', '34', '35', '36', '37', '38', '39']\n",
      "['40', '41', '42', '43', '44', '45', '46', '47', '48', '49']\n",
      "['50', '51', '52', '53', '54', '55', '56', '57', '58', '59']\n",
      "['60', '61', '62', '63', '64', '65', '66', '67', '68', '69']\n",
      "['70', '71', '72', '73', '74', '75', '76', '77', '78', '79']\n",
      "['80', '81', '82', '83', '84', '85', '86', '87', '88', '89']\n",
      "['90', '91', '92', '93', '94', '95', '96', '97', '98', '99']\n"
     ]
    }
   ],
   "source": [
    "# split a list into evenly sized chunks\n",
    "chunks = [data[x:x + 10] for x in range(0, len(data), 10)]\n",
    "for chunk in chunks:\n",
    "    print(chunk)"
   ]
  },
  {
   "cell_type": "code",
   "execution_count": 5,
   "metadata": {},
   "outputs": [
    {
     "name": "stdout",
     "output_type": "stream",
     "text": [
      "[1, 3, 5, 7, 9]\n"
     ]
    }
   ],
   "source": [
    "# convert a list of tuples into a list with all first elements of each tuple\n",
    "example = [(1, 2), (3, 4), (5, 6), (7, 8), (9, 10)]\n",
    "result = [t[0] for t in example]\n",
    "print(result)"
   ]
  },
  {
   "cell_type": "code",
   "execution_count": 6,
   "metadata": {},
   "outputs": [
    {
     "name": "stdout",
     "output_type": "stream",
     "text": [
      "0,1,2,3,4,5,6,7,8,9\n"
     ]
    }
   ],
   "source": [
    "# convert a list of strings into string\n",
    "example = ['0', '1', '2', '3', '4', '5', '6', '7', '8', '9']\n",
    "s = ','.join(example)\n",
    "print(s)"
   ]
  },
  {
   "cell_type": "code",
   "execution_count": 7,
   "metadata": {},
   "outputs": [
    {
     "name": "stdout",
     "output_type": "stream",
     "text": [
      "0,1,2,3,4,5,6,7,8,9\n"
     ]
    }
   ],
   "source": [
    "# convert a list of numbers into string\n",
    "numbers = [n for n in range(10)]\n",
    "# convert it into a list of strings and then join each element into one string\n",
    "print(','.join([str(x) for x in numbers]))"
   ]
  },
  {
   "cell_type": "code",
   "execution_count": 8,
   "metadata": {},
   "outputs": [
    {
     "name": "stdout",
     "output_type": "stream",
     "text": [
      "[1, 3, 5, 7, 9]\n"
     ]
    }
   ],
   "source": [
    "# replace the original list in a single line\n",
    "numbers = [n for n in range(10)]\n",
    "numbers = [n for n in numbers if bool(n % 2)]\n",
    "print(numbers)"
   ]
  },
  {
   "cell_type": "code",
   "execution_count": 9,
   "metadata": {},
   "outputs": [
    {
     "name": "stdout",
     "output_type": "stream",
     "text": [
      "[0, 2, 4, 6, 8]\n"
     ]
    }
   ],
   "source": [
    "# even numbers using filter function\n",
    "numbers = [n for n in range(10)]\n",
    "print(list(filter(lambda x: x % 2 == 0, numbers)))"
   ]
  },
  {
   "cell_type": "code",
   "execution_count": 10,
   "metadata": {},
   "outputs": [
    {
     "name": "stdout",
     "output_type": "stream",
     "text": [
      "[0, 1, 2, 3, 4, 5, 6, 7, 8, 9]\n",
      "None\n",
      "[0, 1, 2, 3, 4, 5, 6, 7, 8, 9]\n"
     ]
    }
   ],
   "source": [
    "# concatenating two lists\n",
    "a = [n for n in range(5)]\n",
    "b = [n for n in range(5, 10)]\n",
    "# can be assigned to a third variable\n",
    "print(a + b)\n",
    "# cannot be assigned to a third variable\n",
    "print(a.extend(b))\n",
    "print(a)"
   ]
  }
 ],
 "metadata": {
  "kernelspec": {
   "display_name": "Python 3",
   "language": "python",
   "name": "python3"
  },
  "language_info": {
   "codemirror_mode": {
    "name": "ipython",
    "version": 3
   },
   "file_extension": ".py",
   "mimetype": "text/x-python",
   "name": "python",
   "nbconvert_exporter": "python",
   "pygments_lexer": "ipython3",
   "version": "3.6.4"
  }
 },
 "nbformat": 4,
 "nbformat_minor": 2
}
