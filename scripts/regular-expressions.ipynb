{
 "cells": [
  {
   "cell_type": "code",
   "execution_count": 1,
   "metadata": {},
   "outputs": [],
   "source": [
    "import re"
   ]
  },
  {
   "cell_type": "code",
   "execution_count": 42,
   "metadata": {},
   "outputs": [],
   "source": [
    "validator = re.compile('^https?://')"
   ]
  },
  {
   "cell_type": "code",
   "execution_count": 43,
   "metadata": {},
   "outputs": [],
   "source": [
    "def match(string):\n",
    "    if validator.match(string):\n",
    "        print(\"Matched\")\n",
    "    else:\n",
    "        print(\"Not matched\")"
   ]
  },
  {
   "cell_type": "code",
   "execution_count": 45,
   "metadata": {},
   "outputs": [
    {
     "name": "stdout",
     "output_type": "stream",
     "text": [
      "Matched\n"
     ]
    }
   ],
   "source": [
    "match('https://abc.com')"
   ]
  },
  {
   "cell_type": "code",
   "execution_count": 46,
   "metadata": {},
   "outputs": [
    {
     "name": "stdout",
     "output_type": "stream",
     "text": [
      "Matched\n"
     ]
    }
   ],
   "source": [
    "match('http://abc.com')"
   ]
  },
  {
   "cell_type": "code",
   "execution_count": 47,
   "metadata": {},
   "outputs": [
    {
     "name": "stdout",
     "output_type": "stream",
     "text": [
      "Not matched\n"
     ]
    }
   ],
   "source": [
    "match('abc.com')"
   ]
  },
  {
   "cell_type": "code",
   "execution_count": 66,
   "metadata": {},
   "outputs": [],
   "source": [
    "validator = re.compile('\\d{1,3}(\\.\\d)?[KMB]?$')"
   ]
  },
  {
   "cell_type": "code",
   "execution_count": 67,
   "metadata": {},
   "outputs": [
    {
     "name": "stdout",
     "output_type": "stream",
     "text": [
      "Matched\n"
     ]
    }
   ],
   "source": [
    "match('123.3K')"
   ]
  },
  {
   "cell_type": "code",
   "execution_count": 68,
   "metadata": {},
   "outputs": [
    {
     "name": "stdout",
     "output_type": "stream",
     "text": [
      "Matched\n"
     ]
    }
   ],
   "source": [
    "match('999')"
   ]
  },
  {
   "cell_type": "code",
   "execution_count": 69,
   "metadata": {},
   "outputs": [
    {
     "name": "stdout",
     "output_type": "stream",
     "text": [
      "Not matched\n"
     ]
    }
   ],
   "source": [
    "match('9801390825')"
   ]
  },
  {
   "cell_type": "code",
   "execution_count": 70,
   "metadata": {},
   "outputs": [
    {
     "name": "stdout",
     "output_type": "stream",
     "text": [
      "Matched\n"
     ]
    }
   ],
   "source": [
    "match('980B')"
   ]
  },
  {
   "cell_type": "code",
   "execution_count": 72,
   "metadata": {},
   "outputs": [
    {
     "name": "stdout",
     "output_type": "stream",
     "text": [
      "Matched\n"
     ]
    }
   ],
   "source": [
    "match('12.3M')"
   ]
  },
  {
   "cell_type": "code",
   "execution_count": 74,
   "metadata": {},
   "outputs": [
    {
     "name": "stdout",
     "output_type": "stream",
     "text": [
      "Not matched\n"
     ]
    }
   ],
   "source": [
    "match('34K567')"
   ]
  },
  {
   "cell_type": "code",
   "execution_count": 4,
   "metadata": {},
   "outputs": [],
   "source": [
    "groups = re.match('(\\d{1,}(\\.\\d)?)([KMB])?', '12.2M').groups()"
   ]
  },
  {
   "cell_type": "code",
   "execution_count": 5,
   "metadata": {},
   "outputs": [
    {
     "data": {
      "text/plain": [
       "('12.2', '.2', 'M')"
      ]
     },
     "execution_count": 5,
     "metadata": {},
     "output_type": "execute_result"
    }
   ],
   "source": [
    "groups"
   ]
  },
  {
   "cell_type": "code",
   "execution_count": null,
   "metadata": {},
   "outputs": [],
   "source": [
    "# ^ means starting with, $ means ending with\n",
    "validator = re.compile('^\\d+$')"
   ]
  },
  {
   "cell_type": "code",
   "execution_count": 2,
   "metadata": {},
   "outputs": [
    {
     "name": "stdout",
     "output_type": "stream",
     "text": [
      "input.channel-id\n"
     ]
    }
   ],
   "source": [
    "# replacement\n",
    "example = \"{%input.channel-id%}\"\n",
    "new_string = re.sub(r'[\\{\\%\\}]', '', example)\n",
    "print(new_string)"
   ]
  },
  {
   "cell_type": "code",
   "execution_count": 6,
   "metadata": {},
   "outputs": [
    {
     "name": "stdout",
     "output_type": "stream",
     "text": [
      "<re.Match object; span=(0, 3), match='123'>\n",
      "<re.Match object; span=(0, 3), match='123'>\n"
     ]
    }
   ],
   "source": [
    "# two ways to validate a pattern\n",
    "match_1 = re.compile('^\\d+$').match('123')\n",
    "print(match_1)\n",
    "match_2 = re.match('^\\d+$', '123')\n",
    "print(match_2)"
   ]
  },
  {
   "cell_type": "code",
   "execution_count": 3,
   "metadata": {},
   "outputs": [
    {
     "name": "stdout",
     "output_type": "stream",
     "text": [
      "<re.Match object; span=(0, 6), match='{date}'>\n",
      "None\n",
      "<re.Match object; span=(0, 6), match='{date}'>\n",
      "<re.Match object; span=(0, 16), match='birthday: {date}'>\n"
     ]
    }
   ],
   "source": [
    "token_only = re.compile(r'^{\\w+}$')\n",
    "print(token_only.match('{date}'))\n",
    "print(token_only.match('birthday: {date}'))\n",
    "token_within_a_string = re.compile(r'^[^{]*{(\\w+)}[^}]*$')\n",
    "print(token_within_a_string.match('{date}'))\n",
    "print(token_within_a_string.match('birthday: {date}'))"
   ]
  },
  {
   "cell_type": "code",
   "execution_count": 6,
   "metadata": {},
   "outputs": [
    {
     "name": "stdout",
     "output_type": "stream",
     "text": [
      "birthday: 1990-10-09\n"
     ]
    }
   ],
   "source": [
    "# extract token name within a string\n",
    "validator = re.compile(r'^[^{]*{(\\w+)}[^}]*$')\n",
    "origin = 'birthday: {date}'\n",
    "matched = validator.match(origin)\n",
    "tokens = {\n",
    "    \"name\": \"Tom\",\n",
    "    \"date\": \"1990-10-09\"\n",
    "}\n",
    "if matched:\n",
    "    origin = re.sub(r'{\\w+}', tokens[matched.groups()[0]], origin)\n",
    "print(origin)"
   ]
  },
  {
   "cell_type": "code",
   "execution_count": 3,
   "metadata": {},
   "outputs": [
    {
     "name": "stdout",
     "output_type": "stream",
     "text": [
      "test_1: None\n",
      "test_2: <re.Match object; span=(0, 5), match='Quick'>\n",
      "test_3: <re.Match object; span=(0, 8), match='Quick123'>\n"
     ]
    }
   ],
   "source": [
    "# exclude a string\n",
    "pattern = \"^(?!Q\\\\d+).*$\"\n",
    "test_1 = \"Q123\"\n",
    "test_2 = \"Quick\"\n",
    "test_3 = \"Quick123\"\n",
    "print(\"test_1: %s\\ntest_2: %s\\ntest_3: %s\" % (re.match(pattern, test_1), re.match(pattern, test_2), re.match(pattern, test_3)))"
   ]
  },
  {
   "cell_type": "code",
   "execution_count": null,
   "metadata": {},
   "outputs": [],
   "source": []
  }
 ],
 "metadata": {
  "kernelspec": {
   "display_name": "Python 3",
   "language": "python",
   "name": "python3"
  },
  "language_info": {
   "codemirror_mode": {
    "name": "ipython",
    "version": 3
   },
   "file_extension": ".py",
   "mimetype": "text/x-python",
   "name": "python",
   "nbconvert_exporter": "python",
   "pygments_lexer": "ipython3",
   "version": "3.7.0"
  }
 },
 "nbformat": 4,
 "nbformat_minor": 2
}
