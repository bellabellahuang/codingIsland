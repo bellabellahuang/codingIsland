{
 "cells": [
  {
   "cell_type": "code",
   "execution_count": 1,
   "metadata": {},
   "outputs": [],
   "source": [
    "# dateutil is a third-party library\n",
    "from dateutil.parser import parse\n",
    "# datetime is a built-in module\n",
    "from datetime import datetime"
   ]
  },
  {
   "cell_type": "code",
   "execution_count": 2,
   "metadata": {},
   "outputs": [],
   "source": [
    "# converting string to datetime\n",
    "example = '2019-10-12 13:14:15.890'"
   ]
  },
  {
   "cell_type": "code",
   "execution_count": 3,
   "metadata": {},
   "outputs": [
    {
     "name": "stdout",
     "output_type": "stream",
     "text": [
      "2019-10-12 13:14:15.890000\n"
     ]
    }
   ],
   "source": [
    "# dateutil.parser.parse is able to convert different string format to datetime automatically\n",
    "print(parse(example))"
   ]
  },
  {
   "cell_type": "code",
   "execution_count": 4,
   "metadata": {},
   "outputs": [
    {
     "name": "stdout",
     "output_type": "stream",
     "text": [
      "2019-10-12 13:14:15.890000\n"
     ]
    }
   ],
   "source": [
    "# the datetime format must be known when using datetime.strptime\n",
    "print(datetime.strptime(example, '%Y-%m-%d %H:%M:%S.%f'))"
   ]
  },
  {
   "cell_type": "code",
   "execution_count": 5,
   "metadata": {},
   "outputs": [
    {
     "name": "stdout",
     "output_type": "stream",
     "text": [
      "2019-05-15 23:49:58.055879\n",
      "2019/05/15\n"
     ]
    }
   ],
   "source": [
    "# converting datetime to string\n",
    "example = datetime.utcnow()\n",
    "print(example)\n",
    "print(example.strftime('%Y/%m/%d'))"
   ]
  },
  {
   "cell_type": "code",
   "execution_count": 6,
   "metadata": {},
   "outputs": [
    {
     "name": "stdout",
     "output_type": "stream",
     "text": [
      "1557989449.558829\n",
      "1557989449\n",
      "1557989449.558829\n"
     ]
    }
   ],
   "source": [
    "# converting datetime to timestamp\n",
    "example = datetime.utcnow()\n",
    "print(example.timestamp())\n",
    "print(example.strftime('%s'))\n",
    "print(example.strftime('%s.%f'))"
   ]
  },
  {
   "cell_type": "code",
   "execution_count": 7,
   "metadata": {},
   "outputs": [
    {
     "name": "stdout",
     "output_type": "stream",
     "text": [
      "2019-04-01 21:50:40.580296\n"
     ]
    }
   ],
   "source": [
    "# converting timestamp to datetime\n",
    "example = 1554180640.580296\n",
    "print(datetime.fromtimestamp(example))"
   ]
  }
 ],
 "metadata": {
  "kernelspec": {
   "display_name": "Python 3",
   "language": "python",
   "name": "python3"
  },
  "language_info": {
   "codemirror_mode": {
    "name": "ipython",
    "version": 3
   },
   "file_extension": ".py",
   "mimetype": "text/x-python",
   "name": "python",
   "nbconvert_exporter": "python",
   "pygments_lexer": "ipython3",
   "version": "3.7.0"
  }
 },
 "nbformat": 4,
 "nbformat_minor": 2
}
