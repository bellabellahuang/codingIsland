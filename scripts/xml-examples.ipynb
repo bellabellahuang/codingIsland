{
 "cells": [
  {
   "cell_type": "code",
   "execution_count": 1,
   "metadata": {},
   "outputs": [],
   "source": [
    "import xml.etree.ElementTree as ET"
   ]
  },
  {
   "cell_type": "code",
   "execution_count": 4,
   "metadata": {},
   "outputs": [
    {
     "name": "stdout",
     "output_type": "stream",
     "text": [
      "<xml.etree.ElementTree.ElementTree object at 0x10b853eb8>\n"
     ]
    }
   ],
   "source": [
    "# reading the xml object from a file\n",
    "tree = ET.parse('youtube-feed-example.xml')\n",
    "print(tree)"
   ]
  },
  {
   "cell_type": "code",
   "execution_count": 5,
   "metadata": {},
   "outputs": [
    {
     "name": "stdout",
     "output_type": "stream",
     "text": [
      "<Element '{http://www.w3.org/2005/Atom}feed' at 0x10b85f778>\n"
     ]
    }
   ],
   "source": [
    "root = tree.getroot()\n",
    "print(root)"
   ]
  },
  {
   "cell_type": "code",
   "execution_count": 6,
   "metadata": {},
   "outputs": [
    {
     "name": "stdout",
     "output_type": "stream",
     "text": [
      "<Element '{http://www.w3.org/2005/Atom}feed' at 0x10b85f728>\n"
     ]
    }
   ],
   "source": [
    "# reading the xml object from a string\n",
    "with open(\"youtube-feed-example.xml\", \"r\") as f:\n",
    "    root = ET.fromstring(f.read())\n",
    "print(root)"
   ]
  },
  {
   "cell_type": "code",
   "execution_count": 7,
   "metadata": {},
   "outputs": [],
   "source": [
    "def getNamespaces():\n",
    "    # return a mapping from namespace prefix to full name\n",
    "    ns = dict([node for _, node in ET.iterparse(\"youtube-feed-example.xml\", events=['start-ns'])])\n",
    "    # ns = dict([node for _, node in ET.iterparse(io.StringIO(string), events=['start-ns'])])\n",
    "    ns.update({\"atom\": ns['']})\n",
    "    return ns"
   ]
  },
  {
   "cell_type": "code",
   "execution_count": 8,
   "metadata": {},
   "outputs": [
    {
     "name": "stdout",
     "output_type": "stream",
     "text": [
      "{'yt': 'http://www.youtube.com/xml/schemas/2015', '': 'http://www.w3.org/2005/Atom', 'atom': 'http://www.w3.org/2005/Atom'}\n"
     ]
    }
   ],
   "source": [
    "ns = getNamespaces()\n",
    "print(ns)"
   ]
  },
  {
   "cell_type": "code",
   "execution_count": 9,
   "metadata": {},
   "outputs": [
    {
     "name": "stdout",
     "output_type": "stream",
     "text": [
      "123\n",
      "666\n"
     ]
    }
   ],
   "source": [
    "# loop through the xml object to get the values\n",
    "for entry in root.findall(\"atom:entry\", namespaces=ns):\n",
    "    print(entry.findtext(\"yt:videoId\", namespaces=ns))"
   ]
  },
  {
   "cell_type": "code",
   "execution_count": 10,
   "metadata": {},
   "outputs": [
    {
     "name": "stdout",
     "output_type": "stream",
     "text": [
      "('start', <Element '{http://www.w3.org/2005/Atom}feed' at 0x10b80b9f8>)\n",
      "('start', <Element '{http://www.w3.org/2005/Atom}link' at 0x10b864ea8>)\n",
      "('start', <Element '{http://www.w3.org/2005/Atom}link' at 0x10b8649f8>)\n",
      "('start', <Element '{http://www.w3.org/2005/Atom}title' at 0x10b864d68>)\n",
      "('start', <Element '{http://www.w3.org/2005/Atom}updated' at 0x10b864d18>)\n",
      "('start', <Element '{http://www.w3.org/2005/Atom}entry' at 0x10b864cc8>)\n",
      "('start', <Element '{http://www.w3.org/2005/Atom}id' at 0x10b864bd8>)\n",
      "('start', <Element '{http://www.youtube.com/xml/schemas/2015}videoId' at 0x10b864b38>)\n",
      "('start', <Element '{http://www.youtube.com/xml/schemas/2015}channelId' at 0x10b864a98>)\n",
      "('start', <Element '{http://www.w3.org/2005/Atom}title' at 0x10b8649a8>)\n",
      "('start', <Element '{http://www.w3.org/2005/Atom}link' at 0x10b864958>)\n",
      "('start', <Element '{http://www.w3.org/2005/Atom}author' at 0x10b864908>)\n",
      "('start', <Element '{http://www.w3.org/2005/Atom}name' at 0x10b8648b8>)\n",
      "('start', <Element '{http://www.w3.org/2005/Atom}uri' at 0x10b864ae8>)\n",
      "('start', <Element '{http://www.w3.org/2005/Atom}published' at 0x10b86b048>)\n",
      "('start', <Element '{http://www.w3.org/2005/Atom}updated' at 0x10b86b0e8>)\n",
      "('start', <Element '{http://www.w3.org/2005/Atom}entry' at 0x10b86b138>)\n",
      "('start', <Element '{http://www.w3.org/2005/Atom}id' at 0x10b86b188>)\n",
      "('start', <Element '{http://www.youtube.com/xml/schemas/2015}videoId' at 0x10b86b1d8>)\n",
      "('start', <Element '{http://www.youtube.com/xml/schemas/2015}channelId' at 0x10b86b228>)\n",
      "('start', <Element '{http://www.w3.org/2005/Atom}title' at 0x10b86b278>)\n",
      "('start', <Element '{http://www.w3.org/2005/Atom}link' at 0x10b86b2c8>)\n",
      "('start', <Element '{http://www.w3.org/2005/Atom}author' at 0x10b86b318>)\n",
      "('start', <Element '{http://www.w3.org/2005/Atom}name' at 0x10b86b368>)\n",
      "('start', <Element '{http://www.w3.org/2005/Atom}uri' at 0x10b86b3b8>)\n",
      "('start', <Element '{http://www.w3.org/2005/Atom}published' at 0x10b86b408>)\n",
      "('start', <Element '{http://www.w3.org/2005/Atom}updated' at 0x10b86b4a8>)\n"
     ]
    }
   ],
   "source": [
    "# events can be a list of elements in 'start', 'end', 'start-ns', 'end-ns'\n",
    "# 'start' and 'end' will return the start tag or end tag with the namespaces\n",
    "# <feed> is the start tag and </feed> is the end tag\n",
    "# 'ns' will return the unique namespaces without the tag name\n",
    "# iterparse will loop through each node of the element tree\n",
    "a = ET.iterparse(\"youtube-feed-example.xml\", events=['start'])\n",
    "for e in a:\n",
    "    print(e)"
   ]
  }
 ],
 "metadata": {
  "kernelspec": {
   "display_name": "Python 3",
   "language": "python",
   "name": "python3"
  },
  "language_info": {
   "codemirror_mode": {
    "name": "ipython",
    "version": 3
   },
   "file_extension": ".py",
   "mimetype": "text/x-python",
   "name": "python",
   "nbconvert_exporter": "python",
   "pygments_lexer": "ipython3",
   "version": "3.7.0"
  }
 },
 "nbformat": 4,
 "nbformat_minor": 2
}
